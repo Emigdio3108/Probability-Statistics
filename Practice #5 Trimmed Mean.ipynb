{
 "cells": [
  {
   "cell_type": "markdown",
   "metadata": {},
   "source": [
    "## PRACTICE 5"
   ]
  },
  {
   "cell_type": "markdown",
   "metadata": {},
   "source": [
    "## Emigdio Balderas and Alejandro Vargas\n",
    "\n",
    "Develop a program that calculates trimmed mean. The user have to introduce the set of data and the percentage they want to use."
   ]
  },
  {
   "cell_type": "code",
   "execution_count": 20,
   "metadata": {},
   "outputs": [
    {
     "name": "stdout",
     "output_type": "stream",
     "text": [
      "How many values are you going to introduce?: 10\n",
      "Introduce a value: 4\n",
      "Introduce a value: 5\n",
      "Introduce a value: 8\n",
      "Introduce a value: 6\n",
      "Introduce a value: 2\n",
      "Introduce a value: 1\n",
      "Introduce a value: 3\n",
      "Introduce a value: 7\n",
      "Introduce a value: 9\n",
      "Introduce a value: 10\n"
     ]
    }
   ],
   "source": [
    "n=int(input(\"How many values are you going to introduce?: \"))\n",
    "\n",
    "a=[]\n",
    "\n",
    "for i in range(0,n):\n",
    "    x = float(input(\"Introduce a value: \"))\n",
    "    a.append(x)\n"
   ]
  },
  {
   "cell_type": "markdown",
   "metadata": {},
   "source": [
    "In this part is used a function of python that is called sorted(), this function sorts values from lowest to highest, is needed to can compute the trimmed mean. A new variable is created where the values will be sorted. Then the list is printed on the screen."
   ]
  },
  {
   "cell_type": "code",
   "execution_count": 21,
   "metadata": {},
   "outputs": [
    {
     "name": "stdout",
     "output_type": "stream",
     "text": [
      "[1.0, 2.0, 3.0, 4.0, 5.0, 6.0, 7.0, 8.0, 9.0, 10.0]\n"
     ]
    }
   ],
   "source": [
    "a2= sorted(a)\n",
    "print(a2)"
   ]
  },
  {
   "cell_type": "markdown",
   "metadata": {},
   "source": [
    "Here is asked to the user of the percent he want in way to obtain the trimmed mean. Python can not recognize a percentage so the number the user wrote will be divided by 100 and then that decimal number is multiplicated by the number of values the user introduced. The result will be the number of data that will be eliminated for the both sides of the list of data"
   ]
  },
  {
   "cell_type": "code",
   "execution_count": 25,
   "metadata": {},
   "outputs": [
    {
     "name": "stdout",
     "output_type": "stream",
     "text": [
      "Specify the % to obtain the trimmed mean:10\n",
      "The number values that are going to be eliminated are: 1 \n"
     ]
    }
   ],
   "source": [
    "percent= int(input(\"Specify the % to obtain the trimmed mean:\"))\n",
    "per= percent/100\n",
    "v = int(per*n)\n",
    "\n",
    "print(f\"The number values that are going to be eliminated are: {v} \")"
   ]
  },
  {
   "cell_type": "markdown",
   "metadata": {},
   "source": [
    "In the following part of the code is established the operation to obtain a new list without the values that need to be eliminated. In the fuction for is established that i is gointo to start in range (v,n-v) i starts in v that is position 1 of the list and ends in n-v that is one before the last one, this because is supposed that the first and the last number are going to be eliminated. Remember in python count starts in 0 and ends 1 before the number you wrote."
   ]
  },
  {
   "cell_type": "code",
   "execution_count": 26,
   "metadata": {},
   "outputs": [
    {
     "name": "stdout",
     "output_type": "stream",
     "text": [
      "The new values are: \n",
      "[2.0, 3.0, 4.0, 5.0, 6.0, 7.0, 8.0, 9.0] \n"
     ]
    }
   ],
   "source": [
    "no_values=0 ## new variable that counts the new amount of data \n",
    "sum_x=0 ##variable to obtain the total of the addition of the data\n",
    "a3=[]\n",
    "for i in range (v,n-v):\n",
    "    x=a2[i]\n",
    "    a3.append(x)\n",
    "    no_values += 1 ## every time x pass through a data, no_values will increase 1\n",
    "    sum_x += x ## all the data in x is going to add in this variable\n",
    "\n",
    "print(f\"The new values are: \\n{a3} \")\n"
   ]
  },
  {
   "cell_type": "markdown",
   "metadata": {},
   "source": [
    "To finish, the variable t_mean is the operation to obtain the trimmed mean, that can be defined as a sample mean so we just divided the sum_x/ no_values, and finally the result will be show it on the screen."
   ]
  },
  {
   "cell_type": "code",
   "execution_count": 27,
   "metadata": {},
   "outputs": [
    {
     "name": "stdout",
     "output_type": "stream",
     "text": [
      "The trimmed mean is: 5.5\n"
     ]
    }
   ],
   "source": [
    "t_mean= sum_x/no_values\n",
    "print(f\"The trimmed mean is: {t_mean}\")"
   ]
  }
 ],
 "metadata": {
  "kernelspec": {
   "display_name": "Python 3",
   "language": "python",
   "name": "python3"
  },
  "language_info": {
   "codemirror_mode": {
    "name": "ipython",
    "version": 3
   },
   "file_extension": ".py",
   "mimetype": "text/x-python",
   "name": "python",
   "nbconvert_exporter": "python",
   "pygments_lexer": "ipython3",
   "version": "3.7.3"
  }
 },
 "nbformat": 4,
 "nbformat_minor": 2
}

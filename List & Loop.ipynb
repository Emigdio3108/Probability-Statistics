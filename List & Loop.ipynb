{
 "cells": [
  {
   "cell_type": "markdown",
   "metadata": {},
   "source": [
    "## List and loop"
   ]
  },
  {
   "cell_type": "markdown",
   "metadata": {},
   "source": [
    "## Made by Emigdio Balderas and Alejandro Vargas"
   ]
  },
  {
   "cell_type": "code",
   "execution_count": 1,
   "metadata": {},
   "outputs": [
    {
     "name": "stdout",
     "output_type": "stream",
     "text": [
      "How many names you will register?: 5\n",
      "Introduce the name: Alex\n",
      "Introduce the name: Emigdio\n",
      "Introduce the name: Victor\n",
      "Introduce the name: Moises\n",
      "Introduce the name: Antonio\n",
      "Which name you want to see?: 2\n",
      "Number 2 is the name of Emigdio\n"
     ]
    }
   ],
   "source": [
    "##Excersice using list and loop to save diferents variables into one defined variable and show it, depending which name you want\n",
    "number = int(input(\"How many names you will register?: \")) #ask for the number of names\n",
    "names=[] #create a variable using [] to create a list \n",
    "\n",
    "for i in range(0,number): #with this code the code of number will repeat until arrived to the number we put before\n",
    "    x= input(\"Introduce the name: \")\n",
    "    names.append(x) #the data saved in x will be moved to the variable names that we defined as a list before\n",
    "\n",
    "which=int(input(\"Which name you want to see?: \")) #ask for the position of the name you want to see\n",
    "which2= which-1 #just to started the count since number 1\n",
    "print(f\"Number {which} is the name of {names[which2]}\") #here the number you wrote and the name that is defined with that number will be show it on the screnn"
   ]
  }
 ],
 "metadata": {
  "kernelspec": {
   "display_name": "Python 3",
   "language": "python",
   "name": "python3"
  },
  "language_info": {
   "codemirror_mode": {
    "name": "ipython",
    "version": 3
   },
   "file_extension": ".py",
   "mimetype": "text/x-python",
   "name": "python",
   "nbconvert_exporter": "python",
   "pygments_lexer": "ipython3",
   "version": "3.7.3"
  }
 },
 "nbformat": 4,
 "nbformat_minor": 2
}

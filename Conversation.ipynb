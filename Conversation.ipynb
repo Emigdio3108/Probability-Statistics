{
 "cells": [
  {
   "cell_type": "markdown",
   "metadata": {},
   "source": [
    "## CONVERSATION"
   ]
  },
  {
   "cell_type": "markdown",
   "metadata": {},
   "source": [
    "## Emigdio Balderas and Alejandro Vargas"
   ]
  },
  {
   "cell_type": "code",
   "execution_count": 2,
   "metadata": {},
   "outputs": [
    {
     "name": "stdout",
     "output_type": "stream",
     "text": [
      "What is your name?Emi\n",
      "Hello Emi!\n",
      "What is your lastname?Bal\n",
      "Nice to meet you Emi\n",
      "How old are you?19\n",
      "So, you are now an adult\n",
      "How many siblings do you have2\n",
      "Ok, is good to have siblings\n",
      "What do you prefer to eat tacos or hamburguershamburguers\n",
      "Good, I dont like them too much\n",
      "What about music, which one do you prefer Rock or PopRock\n",
      "Oh man, you can be my friend I love Rock & Roll!!!\n",
      "Do you like sports?yes\n",
      "Amazing!\n",
      "Do you like action videogames?yes\n",
      "Those are my favorite videgames\n",
      "And what about cars video games?no\n",
      "Me too\n",
      "Would you like to come someday to my house? We can play video games or whatever you wantyes\n",
      "Is good to hear that, well see you soon\n"
     ]
    }
   ],
   "source": [
    "name = input(\"What is your name?\" )\n",
    "print(f\"Hello {name}!\")\n",
    "\n",
    "lastname = input(\"What is your lastname?\" )\n",
    "print(f\"Nice to meet you {name}\")\n",
    "\n",
    "age = int(input(f\"How old are you?\"))\n",
    "if age < 18 :\n",
    " print(f\"Really {age}?, You are too young\")\n",
    "if age >= 18 :\n",
    " print(\"So, you are now an adult\")\n",
    "\n",
    "siblings = int(input(\"How many siblings do you have\"))\n",
    "if siblings == 0:\n",
    " print(\"OK, so you are the only son\")\n",
    "if siblings >=1:\n",
    " print(\"Ok, is good to have siblings\")\n",
    "\n",
    "food=str(input(\"What do you prefer to eat tacos or hamburguers\"))\n",
    "if food == \"tacos\":\n",
    " print(\"Excellent, I like them too\")\n",
    "if food == \"hamburguers\":\n",
    " print(\"Good, I dont like them too much\")\n",
    "\n",
    "music=str(input(\"What about music, which one do you prefer Rock or Pop\"))\n",
    "if music == \"Rock\":\n",
    " print(\"Oh man, you can be my friend I love Rock & Roll!!!\")\n",
    "if music == \"Pop\":\n",
    " print(\"Well Pop is not too bad\")\n",
    "\n",
    "sport=str(input(\"Do you like sports?\"))\n",
    "if sport==\"yes\":\n",
    " print(\"Amazing!\")\n",
    "if sport==\"no\":\n",
    " print(\"Neither do I, I prefer play videogames\")\n",
    "\n",
    "act=str(input(\"Do you like action videogames?\"))\n",
    "if act==\"yes\":\n",
    " print(\"Those are my favorite videgames\")\n",
    "if act==\"no\":\n",
    " print(\"What a shame, I like them a lot\")\n",
    "\n",
    "cars=str(input(\"And what about cars video games?\"))\n",
    "if cars==\"yes\":\n",
    " print(\"Are good, to get fun for a while\")\n",
    "if cars==\"no\":\n",
    " print(\"Me too\")\n",
    "\n",
    "play=str(input(\"Would you like to come someday to my house? We can play video games or whatever you want\"))\n",
    "if play==\"yes\":\n",
    " print(\"Is good to hear that, well see you soon\")\n",
    "if play==\"no\":\n",
    " print(\"Ok, sorry for the invitation, see you\")"
   ]
  },
  {
   "cell_type": "raw",
   "metadata": {},
   "source": []
  }
 ],
 "metadata": {
  "kernelspec": {
   "display_name": "Python 3",
   "language": "python",
   "name": "python3"
  },
  "language_info": {
   "codemirror_mode": {
    "name": "ipython",
    "version": 3
   },
   "file_extension": ".py",
   "mimetype": "text/x-python",
   "name": "python",
   "nbconvert_exporter": "python",
   "pygments_lexer": "ipython3",
   "version": "3.7.3"
  }
 },
 "nbformat": 4,
 "nbformat_minor": 2
}

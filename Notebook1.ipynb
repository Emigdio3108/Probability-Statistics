{
 "cells": [
  {
   "cell_type": "markdown",
   "metadata": {},
   "source": [
    "## How To Use Python"
   ]
  },
  {
   "cell_type": "code",
   "execution_count": 18,
   "metadata": {},
   "outputs": [],
   "source": [
    "# To use Python, we need to know different things. In the reading we learnt about how to save data in variables, how to print values, how to solve mathematical operations\n",
    "# We are going to explain about how to use Python"
   ]
  },
  {
   "cell_type": "markdown",
   "metadata": {},
   "source": [
    "## Comments"
   ]
  },
  {
   "cell_type": "code",
   "execution_count": 21,
   "metadata": {},
   "outputs": [],
   "source": [
    "# To make a comment you have to use # before the text, doesn´t matter what you write after # because it is going to be ignored by Python\n",
    "\n",
    "# Commands serve to make notes for you"
   ]
  },
  {
   "cell_type": "markdown",
   "metadata": {},
   "source": [
    "## Saving and printing variables"
   ]
  },
  {
   "cell_type": "code",
   "execution_count": 11,
   "metadata": {},
   "outputs": [
    {
     "name": "stdout",
     "output_type": "stream",
     "text": [
      "We are Emigdio and Alejandro\n",
      "This Python program was made by, Emigdio and Alejandro\n"
     ]
    }
   ],
   "source": [
    "# When you want to print a text on the screen you need to use print(Variable or text)\n",
    "# In order to write a text, this has to be between \" \"\n",
    "# Example: print(\"text to be printed\")\n",
    "\n",
    "# To save data and print it on the screen you need to define your variables, how? let's see an example\n",
    "\n",
    "our_names = 'Emigdio and Alejandro' # Here we define the variable as our names. \n",
    "# We can't separate two words when we are writing a variable, so we use: _ between the two words\n",
    "#When the variable is a word or a value that does not change, you need to write the word between ' '\n",
    "\n",
    "print(\"We are\", our_names) # Here our variable is being printed with a text before\n",
    "\n",
    "print(f\"This Python program was made by, {our_names}\")    # In this case, we can print a variable inside a text, but we need to write f before the text in \" \", and we need to write our variable between { }"
   ]
  },
  {
   "cell_type": "markdown",
   "metadata": {},
   "source": [
    "## Numbers and Math"
   ]
  },
  {
   "cell_type": "code",
   "execution_count": 3,
   "metadata": {},
   "outputs": [
    {
     "name": "stdout",
     "output_type": "stream",
     "text": [
      "this is the value of x:  4\n",
      "value of y:  12\n"
     ]
    }
   ],
   "source": [
    "# With the next signs we can solve basic mathematical operations: + - * /\n",
    "\n",
    "#Example\n",
    "x = 2 +2            # This is an example doing an operation and adding a comment, being saved in a variable called x\n",
    "\n",
    "print(\"value of x: \",x)   # We print a text before the value of x\n",
    "\n",
    "y = 3*x\n",
    "\n",
    "print(\"value of y: \", y)\n",
    "\n"
   ]
  },
  {
   "cell_type": "markdown",
   "metadata": {},
   "source": [
    "## Strings and text"
   ]
  },
  {
   "cell_type": "code",
   "execution_count": 1,
   "metadata": {},
   "outputs": [
    {
     "name": "stdout",
     "output_type": "stream",
     "text": [
      "This Python program was made by, Emigdio and Alejandro\n",
      "Programmers: Emigdio and Alejandro\n",
      "Term 3, Group A\n",
      "Mechatronics\n"
     ]
    }
   ],
   "source": [
    "our_names = 'Emigdio and Alejandro'\n",
    "print(f\"This Python program was made by, {our_names}\")\n",
    "\n",
    "people = 'Programmers'\n",
    "\n",
    "print(f\"{people}: {our_names}\")\n",
    "\n",
    "term = '3'\n",
    "group = 'A'\n",
    "career = 'Mechatronics'\n",
    "\n",
    "print(f\"Term {term}, Group {group}\")\n",
    "print(career)"
   ]
  },
  {
   "cell_type": "markdown",
   "metadata": {},
   "source": [
    "## Asking questions"
   ]
  },
  {
   "cell_type": "code",
   "execution_count": null,
   "metadata": {},
   "outputs": [],
   "source": [
    "name = input(\"What is your name? \") # Here we ask a question when you will reply writing your name\n",
    "print(f\"Name: {name}\")"
   ]
  },
  {
   "cell_type": "markdown",
   "metadata": {},
   "source": [
    "## \"Function\""
   ]
  },
  {
   "cell_type": "code",
   "execution_count": 10,
   "metadata": {},
   "outputs": [
    {
     "name": "stdout",
     "output_type": "stream",
     "text": [
      "1 2 3 4\n",
      "one two three four\n",
      "True False True False\n"
     ]
    }
   ],
   "source": [
    "#Here we are usign something called \"function\" to change the formatter strnigs into anothers\n",
    "\n",
    "formatter = \"{} {} {} {}\"#Define your variable\n",
    "\n",
    "print(formatter.format(\"1\", \"2\", \"3\", \"4\"))\n",
    "print(formatter.format(\"one\", \"two\", \"three\", \"four\"))\n",
    "print(formatter.format(\"True\", \"False\", \"True\", \"False\"))\n",
    "\n",
    "#When you write formatter.format, what python will do is replace the string {} for the others four variables we wrote using now \"format\" "
   ]
  },
  {
   "cell_type": "markdown",
   "metadata": {},
   "source": [
    "## Other things you can use "
   ]
  },
  {
   "cell_type": "code",
   "execution_count": 17,
   "metadata": {},
   "outputs": [
    {
     "name": "stdout",
     "output_type": "stream",
     "text": [
      "\tI´m tabbled in\n",
      "I´m split\n",
      "on a line\n",
      "I´m \\ a \\ cat\n",
      "\n",
      "I´ll do a list:\n",
      "\t* Cat food\n",
      "\t* Fishies\n",
      "\t* Catnip\n",
      "\t*Grass\n",
      "\n"
     ]
    }
   ],
   "source": [
    "tabby_cat = \"\\tI´m tabbled in\" #Using \"\\t\"  you can move your text to the middle of the code\n",
    "persian_cat = \"I´m split\\non a line\" #Using \"\\n\" the text will continue in the next line\n",
    "blackslash_cat = \"I´m \\\\ a \\\\ cat\" #Using \"\\\\\" the part of the text you use it will be separate it by a blackslash\n",
    "\n",
    "fat_cat = \"\"\"\n",
    "I´ll do a list:\n",
    "\\t* Cat food\n",
    "\\t* Fishies\n",
    "\\t* Catnip\\n\\t*Grass\n",
    "\"\"\"\n",
    "print(tabby_cat)\n",
    "print(persian_cat)\n",
    "print(blackslash_cat)\n",
    "print(fat_cat)"
   ]
  },
  {
   "cell_type": "code",
   "execution_count": null,
   "metadata": {},
   "outputs": [],
   "source": []
  }
 ],
 "metadata": {
  "kernelspec": {
   "display_name": "Python 3",
   "language": "python",
   "name": "python3"
  },
  "language_info": {
   "codemirror_mode": {
    "name": "ipython",
    "version": 3
   },
   "file_extension": ".py",
   "mimetype": "text/x-python",
   "name": "python",
   "nbconvert_exporter": "python",
   "pygments_lexer": "ipython3",
   "version": "3.7.3"
  }
 },
 "nbformat": 4,
 "nbformat_minor": 2
}

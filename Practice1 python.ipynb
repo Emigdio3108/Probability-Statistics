{
 "cells": [
  {
   "cell_type": "markdown",
   "metadata": {},
   "source": [
    "## PRACTICE 1\n"
   ]
  },
  {
   "cell_type": "markdown",
   "metadata": {},
   "source": [
    "## Made by Emigdio Balderas Romero and Alejandro Vargas"
   ]
  },
  {
   "cell_type": "code",
   "execution_count": 1,
   "metadata": {},
   "outputs": [
    {
     "name": "stdout",
     "output_type": "stream",
     "text": [
      "What is your name? Emigdio\n",
      "Hi,Emigdio\n",
      "How old are you?18\n",
      "Really? you are 18?\n"
     ]
    }
   ],
   "source": [
    "#EXAMPLE\n",
    "print(\"What is your name?\", end =' ') #ask for info\n",
    "name = input() #save the variable\n",
    "print(f\"Hi,{name}\") #print text and the variable\n",
    "age= int(input(\"How old are you?\")) #another way to do the same\n",
    "print(f\"Really? you are {age}?\")"
   ]
  },
  {
   "cell_type": "code",
   "execution_count": 4,
   "metadata": {},
   "outputs": [
    {
     "name": "stdout",
     "output_type": "stream",
     "text": [
      "What is your nameAlejandro\n",
      "Hi,Alejandro\n"
     ]
    }
   ],
   "source": [
    "name=str(input(\"What is your name\")) #using the 2nd way\n",
    "print(f\"Hi,{name}\")"
   ]
  },
  {
   "cell_type": "markdown",
   "metadata": {},
   "source": [
    "## Practice"
   ]
  },
  {
   "cell_type": "code",
   "execution_count": 3,
   "metadata": {},
   "outputs": [
    {
     "name": "stdout",
     "output_type": "stream",
     "text": [
      "How old are you?18\n",
      "How old are you?14\n",
      "How old are you?16\n",
      "Student 1 is:´18 years old\n",
      "Student 2 is:´14 years old\n",
      "Student 3 is:´16 years old\n",
      " The sample mean is 16.0\n"
     ]
    }
   ],
   "source": [
    "age_1= int(input(\"How old are you?\"))\n",
    "age_2= int(input(\"How old are you?\"))\n",
    "age_3= int(input(\"How old are you?\"))\n",
    "print(f\"Student 1 is:´{age_1} years old\") \n",
    "print(f\"Student 2 is:´{age_2} years old\") \n",
    "print(f\"Student 3 is:´{age_3} years old\") \n",
    "sample_mean = (age_1+age_2+age_3)/3 \n",
    "\n",
    "print(f\" The sample mean is {sample_mean}\")"
   ]
  },
  {
   "cell_type": "code",
   "execution_count": null,
   "metadata": {},
   "outputs": [],
   "source": []
  }
 ],
 "metadata": {
  "kernelspec": {
   "display_name": "Python 3",
   "language": "python",
   "name": "python3"
  },
  "language_info": {
   "codemirror_mode": {
    "name": "ipython",
    "version": 3
   },
   "file_extension": ".py",
   "mimetype": "text/x-python",
   "name": "python",
   "nbconvert_exporter": "python",
   "pygments_lexer": "ipython3",
   "version": "3.7.3"
  }
 },
 "nbformat": 4,
 "nbformat_minor": 2
}
